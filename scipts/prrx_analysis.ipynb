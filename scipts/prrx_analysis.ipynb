{
 "cells": [
  {
   "attachments": {},
   "cell_type": "markdown",
   "metadata": {},
   "source": [
    "# Analysis of pRRx/pRRx% properties in AF detection\n",
    "\n",
    "## 1. Data preparation"
   ]
  },
  {
   "cell_type": "code",
   "execution_count": 1,
   "metadata": {},
   "outputs": [],
   "source": [
    "import prepare_data"
   ]
  },
  {
   "cell_type": "code",
   "execution_count": 2,
   "metadata": {},
   "outputs": [
    {
     "name": "stdout",
     "output_type": "stream",
     "text": [
      "db = 'ltafdb'\n",
      "Reading annotations from record 84/84\n",
      "Associating rhythms with QRS's in record (84 / 84)\n"
     ]
    }
   ],
   "source": [
    "# 1. Save QRS locations of continuous AF and SR segments to CSV files\n",
    "for db in ['ltafdb', 'afdb']:\n",
    "    rec_dir = f'../data/raw/{db}/1.0.0'\n",
    "    prepare_data.prepare_qrs(rec_dir, db)\n",
    "# 2. Calculate pRRx and pRRx%\n",
    "x_sec = 60  # Length of RR segments [s]\n",
    "for db, fs in [['afdb', 128]]:  # ['ltafdb', 128], \n",
    "    prepare_data.prepare_prrx(\n",
    "        db, fs, x_sec,\n",
    "        qrs_dir='../data/interim',\n",
    "        prrx_dir='../data/processed')"
   ]
  },
  {
   "attachments": {},
   "cell_type": "markdown",
   "metadata": {},
   "source": [
    "## 2. Distribution analysis\n",
    "For each pRRx/pRRx%, plot:\n",
    "* median\n",
    "* range from 25th to 75th percentile\n",
    "* range from 10th to 90th percentile"
   ]
  },
  {
   "cell_type": "code",
   "execution_count": null,
   "metadata": {},
   "outputs": [],
   "source": [
    "import os\n",
    "import distribution\n",
    "import helper"
   ]
  },
  {
   "cell_type": "code",
   "execution_count": null,
   "metadata": {},
   "outputs": [],
   "source": [
    "prrx_dir = '../data/processed'\n",
    "fig_dir = '../reports/images/distr'\n",
    "x_sec = 60\n",
    "db = 'ltafdb'\n",
    "df = helper.read_prrx(prrx_dir, db, x_sec)\n",
    "perc_dict = distribution.calc_percentiles(df)\n",
    "if not os.path.exists(fig_dir):\n",
    "    os.makedirs(os.path.join(fig_dir))\n",
    "distribution.plot_distr(perc_dict, db, x_sec, fig_dir)"
   ]
  },
  {
   "attachments": {},
   "cell_type": "markdown",
   "metadata": {},
   "source": [
    "## 3. ROC analysis\n",
    "\n",
    "For each pRRx/pRRx%, using reveiver operating characteristic (ROC) curve, calculate:\n",
    "* area under curve (AUC)\n",
    "* optimal cutoff using Youden's criterion"
   ]
  },
  {
   "cell_type": "code",
   "execution_count": null,
   "metadata": {},
   "outputs": [],
   "source": [
    "import os\n",
    "from roc_analysis import auc_prrx_to_excel, cutoff_prrx_to_excel, plot_auc, plot_cutoff"
   ]
  },
  {
   "cell_type": "code",
   "execution_count": null,
   "metadata": {},
   "outputs": [],
   "source": [
    "prrx_dir = '../data/processed'\n",
    "roc_dir = '../reports/excel/roc'\n",
    "fig_dir = '../reports/images/roc'\n",
    "x_sec = 60\n",
    "db = 'ltafdb'\n",
    "if not os.path.exists(roc_dir):\n",
    "    os.makedirs(os.path.join(roc_dir))\n",
    "if not os.path.exists(fig_dir):\n",
    "    os.makedirs(os.path.join(fig_dir))\n",
    "# 1. Calculate and save AUC\n",
    "auc_prrx_to_excel(prrx_dir, db, x_sec, roc_dir)\n",
    "# 2. Plot AUC\n",
    "plot_auc(roc_dir, db, x_sec, fig_dir)"
   ]
  },
  {
   "cell_type": "code",
   "execution_count": null,
   "metadata": {},
   "outputs": [],
   "source": [
    "# 2. Calculate and save optimal cutoffs\n",
    "cutoff_prrx_to_excel(\n",
    "    prrx_dir, db, method='youden', x_sec=60, cutoff_dir=roc_dir)\n",
    "# 4. Plot cutoffs\n",
    "plot_cutoff(roc_dir, db, x_sec, 'youden', fig_dir)"
   ]
  },
  {
   "attachments": {},
   "cell_type": "markdown",
   "metadata": {},
   "source": [
    "## 4. Classify RR series as AF or SR\n",
    "\n",
    "* Using optimal cutoffs, classify the dataset (LTAFDB)\n",
    "    * nonparametric bootstrap - random subsets of the database are chosen N times\n",
    "    * Calculate classification metrics\n",
    "    * Calculate 95% CI for each metric\n",
    "    * Plot the results\n",
    "    * Compare distributions of classification metrics for\n",
    "        * pRR31 and pRR3.25%\n",
    "        * pRR50 and pRR31\n",
    "* Classify the test set (AFDB) using cutoffs from the training set (LTAFDB)\n",
    "    * compare results with the training set\n",
    "    * other analyses as in the training set"
   ]
  },
  {
   "cell_type": "code",
   "execution_count": null,
   "metadata": {},
   "outputs": [],
   "source": [
    "import bootstrap as boot"
   ]
  },
  {
   "cell_type": "code",
   "execution_count": null,
   "metadata": {},
   "outputs": [],
   "source": [
    "N = 5000\n",
    "prrx_dir = '../data/processed'\n",
    "cutoff_dir = '../reports/excel/roc'\n",
    "x_sec = 60\n",
    "cutoff_method = 'youden'\n",
    "boot_dir = '../reports/excel/boot'\n",
    "fig_dir = '../reports/images/boot'\n",
    "db = 'ltafdb'\n",
    "# 1. Bootstrap - classification (train set)\n",
    "boot.bootstrap(prrx_dir, cutoff_dir, db, x_sec, cutoff_method, N,\n",
    "            boot_dir)\n",
    "for group in ['pRRx', 'pRRx%']:\n",
    "    boot.calculate_95ci(boot_dir, db, x_sec, N, group, cutoff_method)\n",
    "    boot.plot_boot(db, group, N, x_sec, boot_dir, fig_dir)\n",
    "    boot.describe_median_results(db, group, N, x_sec, boot_dir)\n",
    "    boot.test_diff_significance(db, group, N, 'all', x_sec, boot_dir, cutoff_method)"
   ]
  },
  {
   "cell_type": "code",
   "execution_count": null,
   "metadata": {},
   "outputs": [],
   "source": [
    "# 2. Compare distributions of metrics from bootstrap\n",
    "# pRR3.25% vs pRR31\n",
    "boot.plot_compare_scores_distr(\n",
    "    db, group_param_label=(('pRRx', 'pRR31.25', 'pRR31'),\n",
    "                           ('pRRx%', 'pRR3.25%', 'pRR3.25%')),\n",
    "    cutoff_method=cutoff_method, N=N, x_sec=x_sec,\n",
    "    boot_dir=boot_dir, fig_dir=fig_dir)\n",
    "# pRR31 vs pRR50\n",
    "boot.plot_compare_scores_distr(\n",
    "    db, group_param_label=(('pRRx', 'pRR54.6875', 'pRR50'),\n",
    "                           ('pRRx', 'pRR31.25', 'pRR31')),\n",
    "    cutoff_method=cutoff_method, N=N, x_sec=x_sec,\n",
    "    boot_dir=boot_dir, fig_dir=fig_dir)"
   ]
  },
  {
   "cell_type": "code",
   "execution_count": null,
   "metadata": {},
   "outputs": [],
   "source": [
    "# 3. Bootstrap - classification (test set)\n",
    "boot.boot_test_set(\n",
    "    db_train='ltafdb', db_test='afdb', cutoff_method=cutoff_method, N=N,\n",
    "    x_sec=x_sec, cutoff_dir=cutoff_dir, prrx_dir=prrx_dir,\n",
    "    boot_dir=boot_dir)\n",
    "# 4. Plot train and test set results\n",
    "for group in ['pRRx', 'pRRx%']:\n",
    "    boot.calculate_95ci(boot_dir, 'train_ltafdb_test_afdb', x_sec, N, group,\n",
    "                    cutoff_method)\n",
    "    print(group)\n",
    "    boot.plot_boot_train_vs_test(\n",
    "        'ltafdb', 'afdb', group, N, x_sec, boot_dir, fig_dir)"
   ]
  },
  {
   "cell_type": "code",
   "execution_count": null,
   "metadata": {},
   "outputs": [],
   "source": [
    "# 5. Compare distributions of metrics from bootstrap (test set)\n",
    "# pRR3.25% vs pRR31\n",
    "boot.plot_compare_scores_distr(\n",
    "    db='train_ltafdb_test_afdb',\n",
    "    group_param_label=(('pRRx', 'pRR31.25', 'pRR31'),\n",
    "                        ('pRRx%', 'pRR3.25%', 'pRR3.25%')),\n",
    "    cutoff_method=cutoff_method, N=N, x_sec=x_sec,\n",
    "    boot_dir=boot_dir, fig_dir=fig_dir,\n",
    "    suptitle='Test set, AFDB')\n",
    "# pRR31 vs pRR50\n",
    "boot.plot_compare_scores_distr(\n",
    "    db='train_ltafdb_test_afdb',\n",
    "    group_param_label=(('pRRx', 'pRR54.6875', 'pRR50'),\n",
    "                        ('pRRx', 'pRR31.25', 'pRR31')),\n",
    "    cutoff_method=cutoff_method, N=N, x_sec=x_sec,\n",
    "    boot_dir=boot_dir, fig_dir=fig_dir,\n",
    "    suptitle='Test set, AFDB')"
   ]
  },
  {
   "cell_type": "code",
   "execution_count": null,
   "metadata": {},
   "outputs": [],
   "source": []
  }
 ],
 "metadata": {
  "kernelspec": {
   "display_name": "Python 3",
   "language": "python",
   "name": "python3"
  },
  "language_info": {
   "codemirror_mode": {
    "name": "ipython",
    "version": 3
   },
   "file_extension": ".py",
   "mimetype": "text/x-python",
   "name": "python",
   "nbconvert_exporter": "python",
   "pygments_lexer": "ipython3",
   "version": "3.9.13"
  },
  "orig_nbformat": 4,
  "vscode": {
   "interpreter": {
    "hash": "5fb4174a0f6805a6d1d7249872bfcfdb9123bdd1aeb3fddd2ead2123a69a374b"
   }
  }
 },
 "nbformat": 4,
 "nbformat_minor": 2
}
